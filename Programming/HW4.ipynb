{
 "cells": [
  {
   "cell_type": "code",
   "execution_count": 1,
   "id": "turned-fluid",
   "metadata": {},
   "outputs": [],
   "source": [
    "# !pip install numpy\n",
    "# !pip install pandas\n",
    "# !pip install matplotlib\n",
    "# !pip install scikit-learn"
   ]
  },
  {
   "cell_type": "markdown",
   "id": "optional-scanning",
   "metadata": {},
   "source": [
    "### Import pandas, numpy, matplotlib and sklearn"
   ]
  },
  {
   "cell_type": "code",
   "execution_count": 2,
   "id": "comprehensive-norway",
   "metadata": {},
   "outputs": [],
   "source": [
    "import pandas as pd\n",
    "import numpy as np\n",
    "import matplotlib.pyplot as plt\n",
    "import sklearn\n",
    "from sklearn.model_selection import train_test_split"
   ]
  },
  {
   "cell_type": "markdown",
   "id": "attended-consideration",
   "metadata": {},
   "source": [
    "### Importing dataset to your code\n",
    "1. read .csv file by pandas library\n",
    "2. use **describe()** and **head()** functions look over dataset\n",
    "3. plot **mean** and **variance** of data"
   ]
  },
  {
   "cell_type": "code",
   "execution_count": 3,
   "id": "related-designation",
   "metadata": {},
   "outputs": [
    {
     "name": "stdout",
     "output_type": "stream",
     "text": [
      "                x             y\n",
      "count  442.000000  4.420000e+02\n",
      "mean   220.500000 -8.036558e-16\n",
      "std    127.738666  4.761905e-02\n",
      "min      0.000000 -9.027530e-02\n",
      "25%    110.250000 -3.422907e-02\n",
      "50%    220.500000 -7.283766e-03\n",
      "75%    330.750000  3.124802e-02\n",
      "max    441.000000  1.705552e-01\n",
      "   x         y\n",
      "0  0  0.061696\n",
      "1  1 -0.051474\n",
      "2  2  0.044451\n",
      "3  3 -0.011595\n",
      "4  4 -0.036385\n",
      "5  5 -0.040696\n",
      "6  6 -0.047163\n",
      "7  7 -0.001895\n",
      "8  8  0.061696\n",
      "9  9  0.039062\n"
     ]
    },
    {
     "data": {
      "image/png": "[encoded data removed]",
      "text/plain": [
       "<Figure size 432x288 with 1 Axes>"
      ]
     },
     "metadata": {
      "needs_background": "light"
     },
     "output_type": "display_data"
    }
   ],
   "source": [
    "datasheet = pd.read_csv(r'bmi.csv')\n",
    "datasheet.columns = ['x', 'y']\n",
    "\n",
    "print(datasheet.describe())\n",
    "print(datasheet.head(10))\n",
    "\n",
    "y_mean = [datasheet.mean().y] * len(datasheet.x)\n",
    "y_var = [(datasheet.std().y)**2] * len(datasheet.x)\n",
    "plt.plot(datasheet.x, y_mean, label='mean', color='#000075')\n",
    "plt.plot(datasheet.x, y_var, label='variance', color='red')\n",
    "plt.legend()\n",
    "plt.show()"
   ]
  },
  {
   "cell_type": "markdown",
   "id": "similar-ethnic",
   "metadata": {},
   "source": [
    "### Split data\n",
    "1. using sklearn.model_selection to split your dataset (80% for training)\n",
    "  * you can use numpy for spliting too"
   ]
  },
  {
   "cell_type": "code",
   "execution_count": 4,
   "id": "duplicate-father",
   "metadata": {},
   "outputs": [],
   "source": [
    "#Task2\n",
    "x_train, x_test, y_train, y_test = train_test_split(datasheet.x, datasheet.y, train_size=0.8)"
   ]
  },
  {
   "cell_type": "markdown",
   "id": "comprehensive-cemetery",
   "metadata": {},
   "source": [
    "### Linear Regression class\n",
    "1. complete **fit** method\n",
    "2. complete **predict** method\n",
    "3. complete **mean squared error (MSE)** method"
   ]
  },
  {
   "cell_type": "code",
   "execution_count": 5,
   "id": "numerous-captain",
   "metadata": {},
   "outputs": [],
   "source": [
    "#Task3\n",
    "class Linear_Regression:\n",
    "    def __init__(self):\n",
    "        self.x = None\n",
    "        self.y = None\n",
    "        self.alpha0 = None\n",
    "        self.alpha1 = None\n",
    "        self.coeffients = []\n",
    "        \n",
    "    def fit(self, x, y):\n",
    "        self.x = x\n",
    "        self.y = y\n",
    "        \n",
    "        x_avg = np.mean(self.x)\n",
    "        y_avg = np.mean(self.y)\n",
    "        \n",
    "        temp_1 = 0\n",
    "        temp_2 = 0\n",
    "        for i in range(len(x)):\n",
    "            temp_1 += ((x[i] - x_avg) * (y[i] - y_avg))\n",
    "            temp_2 += ((x[i] - x_avg)**2)\n",
    "        \n",
    "        self.alpha1 = temp_1 / temp_2 \n",
    "        self.alpha0 = y_avg - self.alpha1 * x_avg\n",
    "        \n",
    "        self.coeffients = [self.alpha0, self.alpha1]\n",
    "        return self\n",
    "    \n",
    "    def predict(self, x):\n",
    "        y = [0] * len(x)\n",
    "        for i in range(len(x)):\n",
    "            y[i] = self.alpha0 + self.alpha1 * x[i]\n",
    "        return y\n",
    "    \n",
    "    def mse(self, x, y):\n",
    "        n = len(x)\n",
    "        temp = 0\n",
    "        for i in range(len(x)):\n",
    "            temp += ((y[i] - x[i])**2)\n",
    "        MSE = temp / n\n",
    "        return MSE"
   ]
  },
  {
   "cell_type": "markdown",
   "id": "comparable-chair",
   "metadata": {},
   "source": [
    "### Use dataset to create sample Linear regression\n",
    "1. create new instance of Linear_Regression class\n",
    "2. import x_train and y_train parts to fit method\n",
    "3. predict new y by using x_test and predict method\n",
    "4. now find how much is your MSE"
   ]
  },
  {
   "cell_type": "code",
   "execution_count": 6,
   "id": "advisory-boston",
   "metadata": {},
   "outputs": [
    {
     "name": "stdout",
     "output_type": "stream",
     "text": [
      "0.0021796331875754828\n"
     ]
    }
   ],
   "source": [
    "LR = Linear_Regression()\n",
    "model = LR.fit(x_train.to_numpy(), y_train.to_numpy())\n",
    "predicted_values = model.predict(x_test.to_numpy())\n",
    "error = model.mse(predicted_values, y_test.to_numpy())\n",
    "print(error)"
   ]
  },
  {
   "cell_type": "markdown",
   "id": "invalid-summary",
   "metadata": {},
   "source": [
    "### Plot data and the line\n",
    "1. use scatter plot to plot dataset\n",
    "2. plot regression line with another color"
   ]
  },
  {
   "cell_type": "code",
   "execution_count": 7,
   "id": "fourth-growth",
   "metadata": {},
   "outputs": [
    {
     "data": {
      "text/plain": [
       "[<matplotlib.lines.Line2D at 0x19dfa15c160>]"
      ]
     },
     "execution_count": 7,
     "metadata": {},
     "output_type": "execute_result"
    },
    {
     "data": {
      "image/png": "[encoded data removed]",
      "text/plain": [
       "<Figure size 432x288 with 1 Axes>"
      ]
     },
     "metadata": {
      "needs_background": "light"
     },
     "output_type": "display_data"
    }
   ],
   "source": [
    "#Task5\n",
    "plt.scatter(datasheet.x, datasheet.y, color='#ffd8b1')\n",
    "x_vals = datasheet.x.to_numpy()\n",
    "y_vals = model.predict(x_vals)\n",
    "plt.plot(x_vals, y_vals, color='#000075')"
   ]
  }
 ],
 "metadata": {
  "kernelspec": {
   "display_name": "Python 3",
   "language": "python",
   "name": "python3"
  },
  "language_info": {
   "codemirror_mode": {
    "name": "ipython",
    "version": 3
   },
   "file_extension": ".py",
   "mimetype": "text/x-python",
   "name": "python",
   "nbconvert_exporter": "python",
   "pygments_lexer": "ipython3",
   "version": "3.8.8"
  }
 },
 "nbformat": 4,
 "nbformat_minor": 5
}
